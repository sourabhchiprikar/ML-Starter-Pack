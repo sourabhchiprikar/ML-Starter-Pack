{
 "cells": [
  {
   "cell_type": "code",
   "execution_count": 142,
   "metadata": {},
   "outputs": [],
   "source": [
    "import pandas as pd\n",
    "import numpy as np\n",
    "import matplotlib.pyplot as plt\n",
    "import seaborn as sns\n",
    "from sklearn.model_selection import train_test_split\n",
    "from sklearn.preprocessing import StandardScaler\n",
    "from sklearn.svm import SVC\n",
    "from xgboost import XGBClassifier\n",
    "from sklearn.linear_model import LogisticRegression\n",
    "from sklearn.naive_bayes import GaussianNB,MultinomialNB\n",
    "from sklearn.tree import DecisionTreeClassifier\n",
    "from sklearn.ensemble import RandomForestClassifier\n",
    "from sklearn.metrics import accuracy_score\n",
    "from sklearn.metrics import confusion_matrix,classification_report\n"
   ]
  },
  {
   "cell_type": "code",
   "execution_count": 143,
   "metadata": {},
   "outputs": [
    {
     "name": "stdout",
     "output_type": "stream",
     "text": [
      "<class 'pandas.core.frame.DataFrame'>\n",
      "RangeIndex: 73147 entries, 0 to 73146\n",
      "Data columns (total 16 columns):\n",
      "id                           73147 non-null object\n",
      "program_id                   73147 non-null object\n",
      "program_type                 73147 non-null object\n",
      "program_duration             73147 non-null int64\n",
      "test_id                      73147 non-null int64\n",
      "test_type                    73147 non-null object\n",
      "difficulty_level             73147 non-null object\n",
      "trainee_id                   73147 non-null int64\n",
      "gender                       73147 non-null object\n",
      "education                    73147 non-null object\n",
      "city_tier                    73147 non-null int64\n",
      "age                          45418 non-null float64\n",
      "total_programs_enrolled      73147 non-null int64\n",
      "is_handicapped               73147 non-null object\n",
      "trainee_engagement_rating    73070 non-null float64\n",
      "is_pass                      73147 non-null int64\n",
      "dtypes: float64(2), int64(6), object(8)\n",
      "memory usage: 8.9+ MB\n"
     ]
    }
   ],
   "source": [
    "train = pd.read_csv('C:/Users/soura/Desktop/python project/python/train_HK6lq50.csv')\n",
    "\n",
    "train.info()\n"
   ]
  },
  {
   "cell_type": "code",
   "execution_count": null,
   "metadata": {},
   "outputs": [],
   "source": []
  },
  {
   "cell_type": "code",
   "execution_count": 144,
   "metadata": {},
   "outputs": [
    {
     "data": {
      "text/plain": [
       "id                               0\n",
       "program_id                       0\n",
       "program_type                     0\n",
       "program_duration                 0\n",
       "test_id                          0\n",
       "test_type                        0\n",
       "difficulty_level                 0\n",
       "trainee_id                       0\n",
       "gender                           0\n",
       "education                        0\n",
       "city_tier                        0\n",
       "age                          27729\n",
       "total_programs_enrolled          0\n",
       "is_handicapped                   0\n",
       "trainee_engagement_rating       77\n",
       "is_pass                          0\n",
       "dtype: int64"
      ]
     },
     "execution_count": 144,
     "metadata": {},
     "output_type": "execute_result"
    }
   ],
   "source": [
    "train.isnull().sum()"
   ]
  },
  {
   "cell_type": "code",
   "execution_count": 145,
   "metadata": {},
   "outputs": [
    {
     "data": {
      "text/plain": [
       "Index(['age', 'trainee_engagement_rating'], dtype='object')"
      ]
     },
     "execution_count": 145,
     "metadata": {},
     "output_type": "execute_result"
    }
   ],
   "source": [
    "train.columns[train.isnull().any()]"
   ]
  },
  {
   "cell_type": "code",
   "execution_count": null,
   "metadata": {},
   "outputs": [],
   "source": []
  },
  {
   "cell_type": "code",
   "execution_count": null,
   "metadata": {},
   "outputs": [],
   "source": []
  },
  {
   "cell_type": "code",
   "execution_count": 146,
   "metadata": {},
   "outputs": [
    {
     "data": {
      "text/plain": [
       "<matplotlib.axes._subplots.AxesSubplot at 0x1855c1e5d30>"
      ]
     },
     "execution_count": 146,
     "metadata": {},
     "output_type": "execute_result"
    },
    {
     "data": {
      "image/png": "[encoded data removed]",
      "text/plain": [
       "<Figure size 432x288 with 1 Axes>"
      ]
     },
     "metadata": {
      "needs_background": "light"
     },
     "output_type": "display_data"
    }
   ],
   "source": [
    "sns.countplot(train['is_pass'])\n",
    "\n",
    "\n",
    "#As we can see data is imbalenced"
   ]
  },
  {
   "cell_type": "code",
   "execution_count": 147,
   "metadata": {},
   "outputs": [
    {
     "data": {
      "text/plain": [
       "<matplotlib.axes._subplots.AxesSubplot at 0x1855c20dfd0>"
      ]
     },
     "execution_count": 147,
     "metadata": {},
     "output_type": "execute_result"
    },
    {
     "data": {
      "image/png": "[encoded data removed]",
      "text/plain": [
       "<Figure size 432x288 with 1 Axes>"
      ]
     },
     "metadata": {
      "needs_background": "light"
     },
     "output_type": "display_data"
    }
   ],
   "source": [
    "\n",
    "sns.countplot(train['program_id'],order = train['program_id'].value_counts().index)\n",
    "\n"
   ]
  },
  {
   "cell_type": "code",
   "execution_count": 148,
   "metadata": {},
   "outputs": [
    {
     "data": {
      "text/plain": [
       "<matplotlib.axes._subplots.AxesSubplot at 0x1854ef3f668>"
      ]
     },
     "execution_count": 148,
     "metadata": {},
     "output_type": "execute_result"
    },
    {
     "data": {
      "image/png": "[encoded data removed]",
      "text/plain": [
       "<Figure size 432x288 with 1 Axes>"
      ]
     },
     "metadata": {
      "needs_background": "light"
     },
     "output_type": "display_data"
    }
   ],
   "source": [
    "sns.countplot(train['program_type'],order = train['program_type'].value_counts().index)"
   ]
  },
  {
   "cell_type": "code",
   "execution_count": 149,
   "metadata": {},
   "outputs": [
    {
     "data": {
      "text/plain": [
       "<matplotlib.axes._subplots.AxesSubplot at 0x1855cc6f6a0>"
      ]
     },
     "execution_count": 149,
     "metadata": {},
     "output_type": "execute_result"
    },
    {
     "data": {
      "image/png": "[encoded data removed]",
      "text/plain": [
       "<Figure size 432x288 with 1 Axes>"
      ]
     },
     "metadata": {
      "needs_background": "light"
     },
     "output_type": "display_data"
    }
   ],
   "source": [
    "sns.countplot(train['city_tier'],order = train['city_tier'].value_counts().index)"
   ]
  },
  {
   "cell_type": "code",
   "execution_count": 150,
   "metadata": {},
   "outputs": [
    {
     "data": {
      "text/plain": [
       "<matplotlib.axes._subplots.AxesSubplot at 0x1855ccb2c88>"
      ]
     },
     "execution_count": 150,
     "metadata": {},
     "output_type": "execute_result"
    },
    {
     "data": {
      "image/png": "[encoded data removed]",
      "text/plain": [
       "<Figure size 432x288 with 1 Axes>"
      ]
     },
     "metadata": {
      "needs_background": "light"
     },
     "output_type": "display_data"
    }
   ],
   "source": [
    "sns.countplot(train['test_type'],order = train['test_type'].value_counts().index)"
   ]
  },
  {
   "cell_type": "code",
   "execution_count": 151,
   "metadata": {},
   "outputs": [
    {
     "data": {
      "text/plain": [
       "<matplotlib.axes._subplots.AxesSubplot at 0x1855d196f98>"
      ]
     },
     "execution_count": 151,
     "metadata": {},
     "output_type": "execute_result"
    },
    {
     "data": {
      "image/png": "[encoded data removed]",
      "text/plain": [
       "<Figure size 432x288 with 1 Axes>"
      ]
     },
     "metadata": {
      "needs_background": "light"
     },
     "output_type": "display_data"
    }
   ],
   "source": [
    "city_tier1 = (train.groupby(['is_pass'])['difficulty_level'].value_counts(normalize=True).rename('percentage').mul(100).reset_index().sort_values('is_pass'))\n",
    "sns.barplot(x=\"difficulty_level\", y=\"percentage\", hue=\"is_pass\", data=city_tier1)\n"
   ]
  },
  {
   "cell_type": "code",
   "execution_count": 152,
   "metadata": {},
   "outputs": [],
   "source": [
    "\n",
    "from sklearn.impute import SimpleImputer\n",
    "imp = SimpleImputer(missing_values=np.nan, strategy='median')\n",
    "final_1=train.iloc[:,11].values\n",
    "final_1= final_1.reshape(-1,1)\n",
    "imp.fit(final_1)\n",
    "final_1=imp.transform(final_1)\n",
    "train['age']= final_1\n",
    "\n",
    "\n",
    "final_2=train.iloc[:,14].values\n",
    "final_2=final_2.reshape(-1,1)\n",
    "imp.fit(final_2)\n",
    "final_2=imp.transform(final_2)\n",
    "train['trainee_engagement_rating']=final_2\n"
   ]
  },
  {
   "cell_type": "code",
   "execution_count": 153,
   "metadata": {},
   "outputs": [
    {
     "name": "stdout",
     "output_type": "stream",
     "text": [
      "<class 'pandas.core.frame.DataFrame'>\n",
      "RangeIndex: 73147 entries, 0 to 73146\n",
      "Data columns (total 16 columns):\n",
      "id                           73147 non-null object\n",
      "program_id                   73147 non-null object\n",
      "program_type                 73147 non-null object\n",
      "program_duration             73147 non-null int64\n",
      "test_id                      73147 non-null int64\n",
      "test_type                    73147 non-null object\n",
      "difficulty_level             73147 non-null object\n",
      "trainee_id                   73147 non-null int64\n",
      "gender                       73147 non-null object\n",
      "education                    73147 non-null object\n",
      "city_tier                    73147 non-null int64\n",
      "age                          73147 non-null float64\n",
      "total_programs_enrolled      73147 non-null int64\n",
      "is_handicapped               73147 non-null object\n",
      "trainee_engagement_rating    73147 non-null float64\n",
      "is_pass                      73147 non-null int64\n",
      "dtypes: float64(2), int64(6), object(8)\n",
      "memory usage: 8.9+ MB\n"
     ]
    }
   ],
   "source": [
    "train.info()"
   ]
  },
  {
   "cell_type": "code",
   "execution_count": 154,
   "metadata": {},
   "outputs": [],
   "source": [
    "\n",
    "train['difficulty_level']=train['difficulty_level'].replace(to_replace =\"easy\", value ='1')\n",
    "train['difficulty_level']=train['difficulty_level'].replace(to_replace =\"intermediate\", value ='2')\n",
    "train['difficulty_level']=train['difficulty_level'].replace(to_replace =\"hard\", value ='3')\n",
    "train['difficulty_level']=train['difficulty_level'].replace(to_replace =\"vary hard\", value ='4')\n",
    "train['difficulty_level']=train['difficulty_level'].astype(int)\n",
    "\n",
    "\n",
    "train['education']=train['education'].replace(to_replace =\"No Qualification\", value ='1')\n",
    "train['education']=train['education'].replace(to_replace =\"Matriculation\", value ='2')\n",
    "train['education']=train['education'].replace(to_replace =\"High School Diploma\", value ='3')\n",
    "train['education']=train['education'].replace(to_replace =\"Bachelors\", value ='4')\n",
    "train['education']=train['education'].replace(to_replace =\"Masters\", value ='5')\n",
    "train['education']=train['education'].astype(int)\n",
    "\n",
    "\n",
    "\n",
    "train['city_tier']=train['city_tier'].replace(to_replace =\"1\", value ='3')\n",
    "train['city_tier']=train['city_tier'].replace(to_replace =\"3\", value ='1')\n",
    "train['city_tier']=train['city_tier'].astype(int)\n",
    "\n",
    "\n",
    "train['program_type']=train['program_type'].map({'Y':1, 'T':3, 'V':5, 'U':4, 'Z':2, 'X':0, 'S':6})\n",
    "\n",
    "train['test_type']=train['test_type'].map({'online':1, 'offline':0})\n",
    "\n",
    "train['gender']=train['gender'].map({'M':1, 'F':0})\n",
    "train['is_handicapped']=train['is_handicapped'].map({'Y':1, 'N':0})\n"
   ]
  },
  {
   "cell_type": "code",
   "execution_count": 155,
   "metadata": {},
   "outputs": [
    {
     "name": "stdout",
     "output_type": "stream",
     "text": [
      "<class 'pandas.core.frame.DataFrame'>\n",
      "RangeIndex: 73147 entries, 0 to 73146\n",
      "Data columns (total 16 columns):\n",
      "id                           73147 non-null object\n",
      "program_id                   73147 non-null object\n",
      "program_type                 73147 non-null int64\n",
      "program_duration             73147 non-null int64\n",
      "test_id                      73147 non-null int64\n",
      "test_type                    73147 non-null int64\n",
      "difficulty_level             73147 non-null int32\n",
      "trainee_id                   73147 non-null int64\n",
      "gender                       73147 non-null int64\n",
      "education                    73147 non-null int32\n",
      "city_tier                    73147 non-null int32\n",
      "age                          73147 non-null float64\n",
      "total_programs_enrolled      73147 non-null int64\n",
      "is_handicapped               73147 non-null int64\n",
      "trainee_engagement_rating    73147 non-null float64\n",
      "is_pass                      73147 non-null int64\n",
      "dtypes: float64(2), int32(3), int64(9), object(2)\n",
      "memory usage: 8.1+ MB\n"
     ]
    }
   ],
   "source": [
    "train.info()"
   ]
  },
  {
   "cell_type": "code",
   "execution_count": 156,
   "metadata": {},
   "outputs": [],
   "source": [
    "train.drop(['program_id','id'],axis =1, inplace= True)\n"
   ]
  },
  {
   "cell_type": "code",
   "execution_count": 158,
   "metadata": {},
   "outputs": [
    {
     "name": "stdout",
     "output_type": "stream",
     "text": [
      "<class 'pandas.core.frame.DataFrame'>\n",
      "RangeIndex: 73147 entries, 0 to 73146\n",
      "Data columns (total 13 columns):\n",
      "program_type                 73147 non-null int64\n",
      "program_duration             73147 non-null int64\n",
      "test_id                      73147 non-null int64\n",
      "test_type                    73147 non-null int64\n",
      "difficulty_level             73147 non-null int32\n",
      "trainee_id                   73147 non-null int64\n",
      "gender                       73147 non-null int64\n",
      "education                    73147 non-null int32\n",
      "city_tier                    73147 non-null int32\n",
      "age                          73147 non-null float64\n",
      "total_programs_enrolled      73147 non-null int64\n",
      "is_handicapped               73147 non-null int64\n",
      "trainee_engagement_rating    73147 non-null float64\n",
      "dtypes: float64(2), int32(3), int64(8)\n",
      "memory usage: 6.4 MB\n"
     ]
    }
   ],
   "source": [
    "\n",
    "x= train.loc[:, train.columns != 'is_pass']\n",
    "\n",
    "\n",
    "x.info()\n",
    "\n",
    "y=train.iloc[:,13].values"
   ]
  },
  {
   "cell_type": "code",
   "execution_count": 91,
   "metadata": {},
   "outputs": [
    {
     "data": {
      "text/plain": [
       "array([0, 1, 1, ..., 1, 1, 1], dtype=int64)"
      ]
     },
     "execution_count": 91,
     "metadata": {},
     "output_type": "execute_result"
    }
   ],
   "source": []
  },
  {
   "cell_type": "code",
   "execution_count": 159,
   "metadata": {},
   "outputs": [],
   "source": [
    "from imblearn.over_sampling import SMOTE\n",
    "smote = SMOTE()\n",
    "cols = x.columns\n",
    "x, y = smote.fit_sample(x, y)\n",
    "x = pd.DataFrame(x, columns = cols)\n",
    "y = pd.Series(y, name = 'target')\n",
    "\n",
    "\n"
   ]
  },
  {
   "cell_type": "code",
   "execution_count": 160,
   "metadata": {},
   "outputs": [
    {
     "data": {
      "text/plain": [
       "<matplotlib.axes._subplots.AxesSubplot at 0x1855a13fe48>"
      ]
     },
     "execution_count": 160,
     "metadata": {},
     "output_type": "execute_result"
    },
    {
     "data": {
      "image/png": "[encoded data removed]",
      "text/plain": [
       "<Figure size 432x288 with 1 Axes>"
      ]
     },
     "metadata": {
      "needs_background": "light"
     },
     "output_type": "display_data"
    }
   ],
   "source": [
    "sns.countplot(y)"
   ]
  },
  {
   "cell_type": "code",
   "execution_count": 161,
   "metadata": {},
   "outputs": [],
   "source": [
    "x_train, x_test, y_train, y_test = train_test_split(x, y, test_size = 0.2, stratify = y, random_state = 101)\n"
   ]
  },
  {
   "cell_type": "code",
   "execution_count": 162,
   "metadata": {},
   "outputs": [],
   "source": [
    "\n",
    "from sklearn.preprocessing import MinMaxScaler\n",
    "scaler=MinMaxScaler()\n",
    "x_train=scaler.fit_transform(x_train)\n",
    "x_test=scaler.transform(x_test)\n"
   ]
  },
  {
   "cell_type": "code",
   "execution_count": null,
   "metadata": {},
   "outputs": [],
   "source": [
    "\n"
   ]
  },
  {
   "cell_type": "code",
   "execution_count": 163,
   "metadata": {},
   "outputs": [
    {
     "data": {
      "text/plain": [
       "RandomForestClassifier(bootstrap=True, ccp_alpha=0.0, class_weight=None,\n",
       "                       criterion='gini', max_depth=None, max_features='auto',\n",
       "                       max_leaf_nodes=None, max_samples=None,\n",
       "                       min_impurity_decrease=0.0, min_impurity_split=None,\n",
       "                       min_samples_leaf=1, min_samples_split=2,\n",
       "                       min_weight_fraction_leaf=0.0, n_estimators=100,\n",
       "                       n_jobs=None, oob_score=False, random_state=None,\n",
       "                       verbose=0, warm_start=False)"
      ]
     },
     "execution_count": 163,
     "metadata": {},
     "output_type": "execute_result"
    }
   ],
   "source": [
    "classifier = RandomForestClassifier()\n",
    "\n",
    "classifier.fit(x_train,y_train)"
   ]
  },
  {
   "cell_type": "code",
   "execution_count": 164,
   "metadata": {},
   "outputs": [],
   "source": [
    "pred_i = classifier.predict(x_test)"
   ]
  },
  {
   "cell_type": "code",
   "execution_count": 165,
   "metadata": {},
   "outputs": [
    {
     "data": {
      "text/plain": [
       "array([[8339, 1834],\n",
       "       [1848, 8326]], dtype=int64)"
      ]
     },
     "execution_count": 165,
     "metadata": {},
     "output_type": "execute_result"
    }
   ],
   "source": [
    "from sklearn.metrics import confusion_matrix\n",
    "CM= confusion_matrix(y_test, pred_i)\n",
    "CM"
   ]
  },
  {
   "cell_type": "code",
   "execution_count": 166,
   "metadata": {},
   "outputs": [
    {
     "name": "stdout",
     "output_type": "stream",
     "text": [
      "<class 'pandas.core.frame.DataFrame'>\n",
      "RangeIndex: 31349 entries, 0 to 31348\n",
      "Data columns (total 15 columns):\n",
      "id                           31349 non-null object\n",
      "program_id                   31349 non-null object\n",
      "program_type                 31349 non-null object\n",
      "program_duration             31349 non-null int64\n",
      "test_id                      31349 non-null int64\n",
      "test_type                    31349 non-null object\n",
      "difficulty_level             31349 non-null object\n",
      "trainee_id                   31349 non-null int64\n",
      "gender                       31349 non-null object\n",
      "education                    31349 non-null object\n",
      "city_tier                    31349 non-null int64\n",
      "age                          19558 non-null float64\n",
      "total_programs_enrolled      31349 non-null int64\n",
      "is_handicapped               31349 non-null object\n",
      "trainee_engagement_rating    31318 non-null float64\n",
      "dtypes: float64(2), int64(5), object(8)\n",
      "memory usage: 3.6+ MB\n"
     ]
    }
   ],
   "source": [
    "test= pd.read_csv('C:/Users/soura/Desktop/python project/python/test_wF0Ps6O.csv')\n",
    "test.info()\n"
   ]
  },
  {
   "cell_type": "code",
   "execution_count": 167,
   "metadata": {},
   "outputs": [],
   "source": [
    "final_3=test.iloc[:,11].values\n",
    "final_3= final_3.reshape(-1,1)\n",
    "imp.fit(final_3)\n",
    "final_3=imp.transform(final_3)\n",
    "test['age']= final_3\n",
    "\n",
    "\n",
    "final_4=test.iloc[:,14].values\n",
    "final_4=final_4.reshape(-1,1)\n",
    "imp.fit(final_4)\n",
    "final_4=imp.transform(final_4)\n",
    "test['trainee_engagement_rating']=final_4"
   ]
  },
  {
   "cell_type": "code",
   "execution_count": 168,
   "metadata": {},
   "outputs": [],
   "source": [
    "\n",
    "test['difficulty_level']=test['difficulty_level'].replace(to_replace =\"easy\", value ='1')\n",
    "test['difficulty_level']=test['difficulty_level'].replace(to_replace =\"intermediate\", value ='2')\n",
    "test['difficulty_level']=test['difficulty_level'].replace(to_replace =\"hard\", value ='3')\n",
    "test['difficulty_level']=test['difficulty_level'].replace(to_replace =\"vary hard\", value ='4')\n",
    "test['difficulty_level']=test['difficulty_level'].astype(int)\n",
    "\n",
    "\n",
    "test['education']=test['education'].replace(to_replace =\"No Qualification\", value ='1')\n",
    "test['education']=test['education'].replace(to_replace =\"Matriculation\", value ='2')\n",
    "test['education']=test['education'].replace(to_replace =\"High School Diploma\", value ='3')\n",
    "test['education']=test['education'].replace(to_replace =\"Bachelors\", value ='4')\n",
    "test['education']=test['education'].replace(to_replace =\"Masters\", value ='5')\n",
    "test['education']=test['education'].astype(int)\n",
    "\n",
    "\n",
    "\n",
    "test['city_tier']=test['city_tier'].replace(to_replace =\"1\", value ='3')\n",
    "test['city_tier']=test['city_tier'].replace(to_replace =\"3\", value ='1')\n",
    "test['city_tier']=test['city_tier'].astype(int)\n",
    "\n",
    "\n",
    "test['program_type']=test['program_type'].map({'Y':1, 'T':3, 'V':5, 'U':4, 'Z':2, 'X':0, 'S':6})\n",
    "\n",
    "test['test_type']=test['test_type'].map({'online':1, 'offline':0})\n",
    "\n",
    "test['gender']=test['gender'].map({'M':1, 'F':0})\n",
    "test['is_handicapped']=test['is_handicapped'].map({'Y':1, 'N':0})\n"
   ]
  },
  {
   "cell_type": "code",
   "execution_count": 169,
   "metadata": {},
   "outputs": [],
   "source": [
    "test.drop(['program_id'],axis =1, inplace= True)\n",
    "\n"
   ]
  },
  {
   "cell_type": "code",
   "execution_count": 170,
   "metadata": {},
   "outputs": [
    {
     "name": "stdout",
     "output_type": "stream",
     "text": [
      "<class 'pandas.core.frame.DataFrame'>\n",
      "RangeIndex: 31349 entries, 0 to 31348\n",
      "Data columns (total 14 columns):\n",
      "id                           31349 non-null object\n",
      "program_type                 31349 non-null int64\n",
      "program_duration             31349 non-null int64\n",
      "test_id                      31349 non-null int64\n",
      "test_type                    31349 non-null int64\n",
      "difficulty_level             31349 non-null int32\n",
      "trainee_id                   31349 non-null int64\n",
      "gender                       31349 non-null int64\n",
      "education                    31349 non-null int32\n",
      "city_tier                    31349 non-null int32\n",
      "age                          31349 non-null float64\n",
      "total_programs_enrolled      31349 non-null int64\n",
      "is_handicapped               31349 non-null int64\n",
      "trainee_engagement_rating    31349 non-null float64\n",
      "dtypes: float64(2), int32(3), int64(8), object(1)\n",
      "memory usage: 3.0+ MB\n"
     ]
    }
   ],
   "source": [
    "test.info()"
   ]
  },
  {
   "cell_type": "code",
   "execution_count": 171,
   "metadata": {},
   "outputs": [],
   "source": [
    "final= test.loc[:, test.columns != 'id']\n"
   ]
  },
  {
   "cell_type": "code",
   "execution_count": 173,
   "metadata": {},
   "outputs": [],
   "source": [
    "test['is_pass']= classifier.predict(final)\n",
    "columns_1=['id','is_pass']\n",
    "\n",
    "output=test[columns_1]\n",
    "\n",
    "output.to_csv('output546.csv',index=False)\n"
   ]
  }
 ],
 "metadata": {
  "kernelspec": {
   "display_name": "Python 3",
   "language": "python",
   "name": "python3"
  },
  "language_info": {
   "codemirror_mode": {
    "name": "ipython",
    "version": 3
   },
   "file_extension": ".py",
   "mimetype": "text/x-python",
   "name": "python",
   "nbconvert_exporter": "python",
   "pygments_lexer": "ipython3",
   "version": "3.7.3"
  }
 },
 "nbformat": 4,
 "nbformat_minor": 2
}
